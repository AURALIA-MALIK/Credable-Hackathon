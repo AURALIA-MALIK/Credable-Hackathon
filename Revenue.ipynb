{
 "cells": [
  {
   "cell_type": "markdown",
   "id": "c048e53e-b71c-4a72-bd50-d64f268ee5da",
   "metadata": {},
   "source": [
    "In order to maximize profitability and properly forecast inventory requirements, we have to undertake 2 important (and related) exercises: determining the business rules that govern what product we sell and when, and, out of this, forecast units sold by month.\n",
    "\n",
    "The Exercise:\n",
    "\n",
    "In this exercise, you will determine the mix of cash loans (an upsell loan) and Product upgrades (an upgrade loan) we'll sell to Current customers in 2023 in order to maximize upgrade + upsell profitability (Classics Assets Products are the core Mobile Phone, Tablet, Decoder, Radio, phone-charging product).\n",
    "\n",
    "Questions to Answer:\n",
    "* How many cash loans and TV upgrades will we sell, by month, in 2023, under the optimal profit-maximizing product mix?\n",
    "* How much profit will we make under the optimal product mix?\n",
    "* How could we potentially adjust business rules to improve profitability? (be creative!)\n",
    "* What operational improvements should we investigate to improve profitability (i.e., which assumptions are most sensitive / we should aim to 'improve')?\n"
   ]
  },
  {
   "cell_type": "code",
   "execution_count": 1,
   "id": "4efaad4d-491a-4f1c-8d9c-f83ca155ec22",
   "metadata": {},
   "outputs": [],
   "source": [
    "#load relevant libararies \n",
    "import pandas as pd\n",
    "import numpy as np\n",
    "import matplotlib.pyplot as plt\n",
    "import seaborn as sns "
   ]
  },
  {
   "cell_type": "code",
   "execution_count": 50,
   "id": "c1c7579d-cbb5-4df7-84b3-5eae823437bf",
   "metadata": {},
   "outputs": [
    {
     "data": {
      "text/html": [
       "<div>\n",
       "<style scoped>\n",
       "    .dataframe tbody tr th:only-of-type {\n",
       "        vertical-align: middle;\n",
       "    }\n",
       "\n",
       "    .dataframe tbody tr th {\n",
       "        vertical-align: top;\n",
       "    }\n",
       "\n",
       "    .dataframe thead th {\n",
       "        text-align: right;\n",
       "    }\n",
       "</style>\n",
       "<table border=\"1\" class=\"dataframe\">\n",
       "  <thead>\n",
       "    <tr style=\"text-align: right;\">\n",
       "      <th></th>\n",
       "      <th>Month</th>\n",
       "      <th>Volume (units)</th>\n",
       "    </tr>\n",
       "  </thead>\n",
       "  <tbody>\n",
       "    <tr>\n",
       "      <th>0</th>\n",
       "      <td>2019-01-31</td>\n",
       "      <td>10000</td>\n",
       "    </tr>\n",
       "    <tr>\n",
       "      <th>1</th>\n",
       "      <td>2019-02-28</td>\n",
       "      <td>10200</td>\n",
       "    </tr>\n",
       "    <tr>\n",
       "      <th>2</th>\n",
       "      <td>2019-03-31</td>\n",
       "      <td>10404</td>\n",
       "    </tr>\n",
       "    <tr>\n",
       "      <th>3</th>\n",
       "      <td>2019-04-30</td>\n",
       "      <td>10612</td>\n",
       "    </tr>\n",
       "    <tr>\n",
       "      <th>4</th>\n",
       "      <td>2019-05-31</td>\n",
       "      <td>10824</td>\n",
       "    </tr>\n",
       "  </tbody>\n",
       "</table>\n",
       "</div>"
      ],
      "text/plain": [
       "       Month  Volume (units)\n",
       "0 2019-01-31           10000\n",
       "1 2019-02-28           10200\n",
       "2 2019-03-31           10404\n",
       "3 2019-04-30           10612\n",
       "4 2019-05-31           10824"
      ]
     },
     "execution_count": 50,
     "metadata": {},
     "output_type": "execute_result"
    }
   ],
   "source": [
    "#load dataset after transposing it on excel to have two columns.\n",
    "df = pd.read_excel (\"Data Hackathon Exercise - Sample Data Set.xlsx\")\n",
    "df.head()"
   ]
  },
  {
   "cell_type": "code",
   "execution_count": 69,
   "id": "425f4739-f1e7-4c2d-8e8a-6249a4814e9c",
   "metadata": {},
   "outputs": [
    {
     "data": {
      "text/plain": [
       "(60, 2)"
      ]
     },
     "execution_count": 69,
     "metadata": {},
     "output_type": "execute_result"
    }
   ],
   "source": [
    "#shape of the dataset\n",
    "df.shape"
   ]
  },
  {
   "cell_type": "code",
   "execution_count": 25,
   "id": "99dd9513-efea-4592-a7aa-792afa000666",
   "metadata": {},
   "outputs": [
    {
     "data": {
      "text/plain": [
       "Month             0\n",
       "Volume (units)    0\n",
       "dtype: int64"
      ]
     },
     "execution_count": 25,
     "metadata": {},
     "output_type": "execute_result"
    }
   ],
   "source": [
    "#check for null values \n",
    "df.isnull().sum()"
   ]
  },
  {
   "cell_type": "code",
   "execution_count": 27,
   "id": "ff760e5d-1f91-4602-9746-e7a8a0eff5a3",
   "metadata": {},
   "outputs": [
    {
     "name": "stdout",
     "output_type": "stream",
     "text": [
      "<class 'pandas.core.frame.DataFrame'>\n",
      "RangeIndex: 60 entries, 0 to 59\n",
      "Data columns (total 2 columns):\n",
      " #   Column          Non-Null Count  Dtype         \n",
      "---  ------          --------------  -----         \n",
      " 0   Month           60 non-null     datetime64[ns]\n",
      " 1   Volume (units)  60 non-null     int64         \n",
      "dtypes: datetime64[ns](1), int64(1)\n",
      "memory usage: 1.1 KB\n"
     ]
    }
   ],
   "source": [
    "#dataset info\n",
    "df.info()"
   ]
  },
  {
   "cell_type": "code",
   "execution_count": 28,
   "id": "e04f57d2-c7a3-4e45-979b-916099132aed",
   "metadata": {},
   "outputs": [
    {
     "data": {
      "text/plain": [
       "0"
      ]
     },
     "execution_count": 28,
     "metadata": {},
     "output_type": "execute_result"
    }
   ],
   "source": [
    "#check datatypes\n",
    "df.duplicated().sum()"
   ]
  },
  {
   "cell_type": "code",
   "execution_count": 47,
   "id": "1fc8a9f2-0c0d-4903-a2ce-637742d35995",
   "metadata": {},
   "outputs": [
    {
     "data": {
      "text/html": [
       "<div>\n",
       "<style scoped>\n",
       "    .dataframe tbody tr th:only-of-type {\n",
       "        vertical-align: middle;\n",
       "    }\n",
       "\n",
       "    .dataframe tbody tr th {\n",
       "        vertical-align: top;\n",
       "    }\n",
       "\n",
       "    .dataframe thead th {\n",
       "        text-align: right;\n",
       "    }\n",
       "</style>\n",
       "<table border=\"1\" class=\"dataframe\">\n",
       "  <thead>\n",
       "    <tr style=\"text-align: right;\">\n",
       "      <th></th>\n",
       "      <th>Month</th>\n",
       "      <th>Volume (units)</th>\n",
       "    </tr>\n",
       "  </thead>\n",
       "  <tbody>\n",
       "    <tr>\n",
       "      <th>48</th>\n",
       "      <td>2023-01-31</td>\n",
       "      <td>25871</td>\n",
       "    </tr>\n",
       "    <tr>\n",
       "      <th>49</th>\n",
       "      <td>2023-02-28</td>\n",
       "      <td>26388</td>\n",
       "    </tr>\n",
       "    <tr>\n",
       "      <th>50</th>\n",
       "      <td>2023-03-31</td>\n",
       "      <td>26916</td>\n",
       "    </tr>\n",
       "    <tr>\n",
       "      <th>51</th>\n",
       "      <td>2023-04-30</td>\n",
       "      <td>27454</td>\n",
       "    </tr>\n",
       "    <tr>\n",
       "      <th>52</th>\n",
       "      <td>2023-05-31</td>\n",
       "      <td>28003</td>\n",
       "    </tr>\n",
       "    <tr>\n",
       "      <th>53</th>\n",
       "      <td>2023-06-30</td>\n",
       "      <td>28563</td>\n",
       "    </tr>\n",
       "    <tr>\n",
       "      <th>54</th>\n",
       "      <td>2023-07-31</td>\n",
       "      <td>29135</td>\n",
       "    </tr>\n",
       "    <tr>\n",
       "      <th>55</th>\n",
       "      <td>2023-08-31</td>\n",
       "      <td>29717</td>\n",
       "    </tr>\n",
       "    <tr>\n",
       "      <th>56</th>\n",
       "      <td>2023-09-30</td>\n",
       "      <td>30312</td>\n",
       "    </tr>\n",
       "    <tr>\n",
       "      <th>57</th>\n",
       "      <td>2023-10-31</td>\n",
       "      <td>30918</td>\n",
       "    </tr>\n",
       "    <tr>\n",
       "      <th>58</th>\n",
       "      <td>2023-11-30</td>\n",
       "      <td>31536</td>\n",
       "    </tr>\n",
       "  </tbody>\n",
       "</table>\n",
       "</div>"
      ],
      "text/plain": [
       "        Month  Volume (units)\n",
       "48 2023-01-31           25871\n",
       "49 2023-02-28           26388\n",
       "50 2023-03-31           26916\n",
       "51 2023-04-30           27454\n",
       "52 2023-05-31           28003\n",
       "53 2023-06-30           28563\n",
       "54 2023-07-31           29135\n",
       "55 2023-08-31           29717\n",
       "56 2023-09-30           30312\n",
       "57 2023-10-31           30918\n",
       "58 2023-11-30           31536"
      ]
     },
     "execution_count": 47,
     "metadata": {},
     "output_type": "execute_result"
    }
   ],
   "source": [
    "#2023 sales\n",
    "df[48:59]"
   ]
  },
  {
   "cell_type": "markdown",
   "id": "12d436d8-0c92-458a-91c6-091fbf5ae784",
   "metadata": {},
   "source": [
    "#### EDA"
   ]
  },
  {
   "cell_type": "code",
   "execution_count": 66,
   "id": "d6231c1c-1757-4f86-8ba2-a47dcbfdad97",
   "metadata": {},
   "outputs": [
    {
     "data": {
      "image/png": "[encoded data removed]",
      "text/plain": [
       "<Figure size 640x480 with 1 Axes>"
      ]
     },
     "metadata": {},
     "output_type": "display_data"
    }
   ],
   "source": [
    "# Extracted the subset of 2023 to try respond to the first question.\n",
    "subset = df[48:59]\n",
    "\n",
    "subset.plot(x='Month', y=['Volume (units)'], kind='bar')\n",
    "plt.title('2023 Upsell')\n",
    "plt.xlabel('Month')\n",
    "plt.ylabel('Number of Units Sold')\n",
    "plt.xticks(rotation=90)\n",
    "plt.show()\n"
   ]
  },
  {
   "cell_type": "markdown",
   "id": "e7d62bd3-e16e-44fc-ad98-10d7000d38b2",
   "metadata": {},
   "source": [
    "The subset data for upsell by month in 2023 reveals a progressive upward trend in sales volume over time. This indicates a consistent increase in upsell units as the months advance."
   ]
  },
  {
   "cell_type": "markdown",
   "id": "82af38ab-5c8c-4fcf-bf41-d4700bc779fc",
   "metadata": {},
   "source": [
    "Questions to answer, I've ran out of time. Although I'll break this dataset more in my own time. Here are the answers to the questions asked\n",
    "\n",
    "Question 2: Determine the optimal product mix based on factors such as profit margins, demand forecasts, and production costs.\n",
    "\n",
    "Question 3: We Offer bundled packages or subscription-based models to increase customer lifetime value and enhance revenue streams.\n",
    "\n",
    "Question 4: Implement data-driven decision-making processes to optimize resource allocation, inventory management, and marketing spend.\n"
   ]
  },
  {
   "cell_type": "markdown",
   "id": "65187470-2c8e-4cff-abec-b33567e60847",
   "metadata": {},
   "source": [
    "### Conclusions"
   ]
  },
  {
   "cell_type": "markdown",
   "id": "5cfc25fe-9896-43bf-9da1-fff00583b9d8",
   "metadata": {},
   "source": [
    "* By leveraging time series forecasting models, such as SARIMA, it is possible to predict future sales trends and anticipate demand fluctuations.\n",
    "* While the dataset reflects positive sales trends, there may be opportunities for improvement in various areas such as customer experience enhancement, and operational efficiency.\n",
    "* The dataset provides insights into customer preferences and purchasing patterns, which can inform  pricing strategies and targeted marketing efforts to better cater to customer needs."
   ]
  },
  {
   "cell_type": "markdown",
   "id": "355cdabc-1b70-4b48-98b4-40c483fc01f4",
   "metadata": {},
   "source": [
    "### Recommendations"
   ]
  },
  {
   "cell_type": "markdown",
   "id": "484805f2-cd0c-4d1d-b731-796d03877f68",
   "metadata": {},
   "source": [
    "* Encourage cross-functional teams to work together towards common goals and shared objectives.\n",
    "* Leverage data analytics and business intelligence tools to derive actionable insights from the sales data.\n",
    "* Solicit feedback from customers to identify areas for improvement and address their evolving needs effectively.\r\n"
   ]
  }
 ],
 "metadata": {
  "kernelspec": {
   "display_name": "Python 3 (ipykernel)",
   "language": "python",
   "name": "python3"
  },
  "language_info": {
   "codemirror_mode": {
    "name": "ipython",
    "version": 3
   },
   "file_extension": ".py",
   "mimetype": "text/x-python",
   "name": "python",
   "nbconvert_exporter": "python",
   "pygments_lexer": "ipython3",
   "version": "3.11.5"
  }
 },
 "nbformat": 4,
 "nbformat_minor": 5
}
